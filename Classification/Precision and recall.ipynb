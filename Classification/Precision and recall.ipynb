{
 "cells": [
  {
   "cell_type": "code",
   "execution_count": 48,
   "metadata": {},
   "outputs": [],
   "source": [
    "import pandas as pd\n",
    "import seaborn as sns\n",
    "import numpy as np\n",
    "import matplotlib.pyplot as plt\n",
    "%matplotlib inline\n",
    "products = pd.read_csv('data/amazon_baby.csv')\n",
    "train_idx = pd.read_json('data/module-9-assignment-train-idx.json')[0]\n",
    "test_idx = pd.read_json('data/module-9-assignment-test-idx.json')[0]"
   ]
  },
  {
   "cell_type": "code",
   "execution_count": 2,
   "metadata": {},
   "outputs": [],
   "source": [
    "def remove_punctuation(text):\n",
    "    import string\n",
    "    return text.translate(str.maketrans('','',string.punctuation)) #first parameter should be translate table \n",
    "\n",
    "\n",
    "def score_to_lebel(score:np.ndarray):\n",
    "    return score>0\n",
    "\n",
    "\n",
    "def score_to_probability(score: np.ndarray):\n",
    "    return 1/(1+np.exp(-score))\n",
    "\n",
    "\n",
    "def accur(y,y_predict):\n",
    "    true_pre = (y==y_predict).sum()\n",
    "    total = len(y)\n",
    "    return true_pre/total"
   ]
  },
  {
   "cell_type": "code",
   "execution_count": 3,
   "metadata": {},
   "outputs": [],
   "source": [
    "products = products.fillna({'review':''})\n",
    "products['review_clean'] = products['review'].apply(remove_punctuation)\n",
    "products = products[products['rating'] != 3]\n",
    "products['sentiment'] = products['rating'].apply(lambda r:1 if r>3 else -1)\n",
    "\n",
    "train_data = products.iloc[train_idx].reset_index()\n",
    "# train_data = train_data[train_data['rating']!=3].reset_index()\n",
    "test_data = products.iloc[test_idx].reset_index()\n",
    "# test_data = test_data[test_data['rating']!=3].reset_index()\n",
    "\n",
    "from sklearn.feature_extraction.text import CountVectorizer\n",
    "vectorizer = CountVectorizer(token_pattern=r'\\b\\w+\\b')\n",
    "     # Use this token pattern to keep single-letter words\n",
    "# First, learn vocabulary from the training data and assign columns to words\n",
    "# Then convert the training data into a sparse matrix\n",
    "train_matrix = vectorizer.fit_transform(train_data['review_clean'])\n",
    "# Second, convert the test data into a sparse matrix, using the same word-column mapping\n",
    "test_matrix = vectorizer.transform(test_data['review_clean'])"
   ]
  },
  {
   "cell_type": "code",
   "execution_count": 7,
   "metadata": {
    "scrolled": true
   },
   "outputs": [
    {
     "data": {
      "text/plain": [
       "LogisticRegression(C=1.0, class_weight=None, dual=False, fit_intercept=True,\n",
       "          intercept_scaling=1, max_iter=100, multi_class='ovr', n_jobs=1,\n",
       "          penalty='l2', random_state=None, solver='liblinear', tol=0.0001,\n",
       "          verbose=0, warm_start=False)"
      ]
     },
     "execution_count": 7,
     "metadata": {},
     "output_type": "execute_result"
    }
   ],
   "source": [
    "from sklearn.linear_model import LogisticRegression\n",
    "model = LogisticRegression()\n",
    "model.fit(train_matrix, train_data['sentiment'])"
   ]
  },
  {
   "cell_type": "code",
   "execution_count": 10,
   "metadata": {},
   "outputs": [
    {
     "name": "stdout",
     "output_type": "stream",
     "text": [
      "Test Accuracy: 0.9321154307655387\n",
      "Baseline accuracy (majority class classifier): 0.8427825773938085\n"
     ]
    }
   ],
   "source": [
    "from sklearn.metrics import accuracy_score\n",
    "accuracy = accuracy_score(y_true=test_data['sentiment'], y_pred=model.predict(test_matrix))\n",
    "print(\"Test Accuracy: %s\" % accuracy)\n",
    "baseline = len(test_data[test_data['sentiment'] == 1])/len(test_data)\n",
    "print (\"Baseline accuracy (majority class classifier): %s\" % baseline)"
   ]
  },
  {
   "cell_type": "code",
   "execution_count": 11,
   "metadata": {},
   "outputs": [
    {
     "name": "stdout",
     "output_type": "stream",
     "text": [
      " target_label | predicted_label | count \n",
      "--------------+-----------------+-------\n",
      "     -1       |       -1        |  3786\n",
      "     -1       |        1        |  1455\n",
      "      1       |       -1        |   808\n",
      "      1       |        1        | 27287\n"
     ]
    }
   ],
   "source": [
    "from sklearn.metrics import confusion_matrix\n",
    "cmat = confusion_matrix(y_true=test_data['sentiment'],\n",
    "                        y_pred=model.predict(test_matrix),\n",
    "                        labels=model.classes_)    # use the same order of class as the LR model.\n",
    "print( ' target_label | predicted_label | count ')\n",
    "print ('--------------+-----------------+-------')\n",
    "# Print out the confusion matrix.\n",
    "for i, target_label in enumerate(model.classes_):\n",
    "    for j, predicted_label in enumerate(model.classes_):\n",
    "        print ('{0:^13} | {1:^15} | {2:5d}'.format(target_label, predicted_label, cmat[i,j]))"
   ]
  },
  {
   "cell_type": "code",
   "execution_count": 14,
   "metadata": {},
   "outputs": [
    {
     "data": {
      "text/plain": [
       "146308"
      ]
     },
     "execution_count": 14,
     "metadata": {},
     "output_type": "execute_result"
    }
   ],
   "source": [
    "cost = cmat[1][0]+cmat[0][1]*100\n",
    "cost"
   ]
  },
  {
   "cell_type": "code",
   "execution_count": 16,
   "metadata": {},
   "outputs": [
    {
     "name": "stdout",
     "output_type": "stream",
     "text": [
      "Precision on test data: 0.9493772180084893\n"
     ]
    }
   ],
   "source": [
    "from sklearn.metrics import precision_score\n",
    "precision = precision_score(y_true=test_data['sentiment'], \n",
    "                            y_pred=model.predict(test_matrix))\n",
    "print (\"Precision on test data: %s\" % precision)"
   ]
  },
  {
   "cell_type": "code",
   "execution_count": 17,
   "metadata": {},
   "outputs": [
    {
     "data": {
      "text/plain": [
       "0.050622781991510685"
      ]
     },
     "execution_count": 17,
     "metadata": {},
     "output_type": "execute_result"
    }
   ],
   "source": [
    "1455/(1455+27287)"
   ]
  },
  {
   "cell_type": "code",
   "execution_count": 19,
   "metadata": {},
   "outputs": [
    {
     "name": "stdout",
     "output_type": "stream",
     "text": [
      "Recall on test data: 0.9712404342409682\n"
     ]
    }
   ],
   "source": [
    "from sklearn.metrics import recall_score\n",
    "recall = recall_score(y_true=test_data['sentiment'],\n",
    "                      y_pred=model.predict(test_matrix))\n",
    "print (\"Recall on test data: %s\" % recall)"
   ]
  },
  {
   "cell_type": "code",
   "execution_count": 22,
   "metadata": {
    "scrolled": true
   },
   "outputs": [
    {
     "data": {
      "text/plain": [
       "array([0.78305525, 0.99999926, 0.93404234, ..., 0.99999458, 0.99999745,\n",
       "       0.98129787])"
      ]
     },
     "execution_count": 22,
     "metadata": {},
     "output_type": "execute_result"
    }
   ],
   "source": [
    "prob_of_positive = model.predict_proba(test_matrix)[:,1]\n",
    "prob_of_positive"
   ]
  },
  {
   "cell_type": "code",
   "execution_count": 58,
   "metadata": {},
   "outputs": [],
   "source": [
    "def apply_threshold(prob, threshold):\n",
    "    return (prob >= threshold)\n",
    "\n",
    "\n",
    "def recall(y_true, y_pred):\n",
    "    a=(y_true==1).sum()\n",
    "    b=np.logical_and((y_true == 1), y_pred).sum()\n",
    "    return b/a\n",
    "\n",
    "def precision(y_true, y_pred):\n",
    "    a = (y_pred==1).sum()\n",
    "    b = np.logical_and((y_true == 1), y_pred).sum()\n",
    "    return b/a\n",
    "\n",
    "\n",
    "def n_false_negative(y_true, y_pred):\n",
    "    return np.logical_and(y_pred==0, y_true==1).sum()"
   ]
  },
  {
   "cell_type": "code",
   "execution_count": 56,
   "metadata": {},
   "outputs": [],
   "source": [
    "threshold_values = np.linspace(0.5, 1, num=100)\n",
    "prob_of_positive = model.predict_proba(test_matrix)[:,1]\n",
    "recalls = []\n",
    "precisions = []\n",
    "\n",
    "for threshold in threshold_values:\n",
    "    y_pred = apply_threshold(prob_of_positive, threshold)\n",
    "    recalls.append(recall(test_data['sentiment'], y_pred))\n",
    "    precisions.append(precision(test_data['sentiment'], y_pred))"
   ]
  },
  {
   "cell_type": "code",
   "execution_count": 49,
   "metadata": {},
   "outputs": [
    {
     "data": {
      "image/png": "[encoded data removed]",
      "text/plain": [
       "<Figure size 504x360 with 1 Axes>"
      ]
     },
     "metadata": {},
     "output_type": "display_data"
    }
   ],
   "source": [
    "def plot_pr_curve(precision, recall, title):\n",
    "    plt.rcParams['figure.figsize'] = 7, 5\n",
    "    plt.locator_params(axis = 'x', nbins = 5)\n",
    "    plt.plot(precision, recall, 'b-', linewidth=4.0, color = '#B0017F')\n",
    "    plt.title(title)\n",
    "    plt.xlabel('Precision')\n",
    "    plt.ylabel('Recall')\n",
    "    plt.rcParams.update({'font.size': 16})\n",
    "    \n",
    "plot_pr_curve(precisions, recalls, 'Precision recall curve (all)')"
   ]
  },
  {
   "cell_type": "code",
   "execution_count": 55,
   "metadata": {},
   "outputs": [
    {
     "name": "stdout",
     "output_type": "stream",
     "text": [
      "0.7070707070707071\n"
     ]
    }
   ],
   "source": [
    "for i, pre in enumerate(precisions):\n",
    "    if pre>=0.965:\n",
    "        print(threshold_values[i])\n",
    "        break"
   ]
  },
  {
   "cell_type": "code",
   "execution_count": 59,
   "metadata": {},
   "outputs": [
    {
     "data": {
      "text/plain": [
       "8230"
      ]
     },
     "execution_count": 59,
     "metadata": {},
     "output_type": "execute_result"
    }
   ],
   "source": [
    "n_false_negative(test_data['sentiment'],apply_threshold(prob_of_positive, 0.98))"
   ]
  },
  {
   "cell_type": "code",
   "execution_count": 80,
   "metadata": {},
   "outputs": [],
   "source": [
    "# We only care about baby's products\n",
    "baby_reviews = test_data[test_data['name'].apply(lambda x: 'baby' in str(x).lower())]\n",
    "baby_matrix = vectorizer.transform(baby_reviews['review_clean'])\n",
    "baby_prob = model.predict_proba(baby_matrix)[:,1]"
   ]
  },
  {
   "cell_type": "code",
   "execution_count": 84,
   "metadata": {},
   "outputs": [
    {
     "name": "stdout",
     "output_type": "stream",
     "text": [
      "0.7323232323232324\n"
     ]
    }
   ],
   "source": [
    "b_r = []\n",
    "b_p = []\n",
    "for threshold in threshold_values:\n",
    "    y_pred = apply_threshold(baby_prob, threshold)\n",
    "    b_r.append(recall(baby_reviews['sentiment'], y_pred))\n",
    "    b_p.append(precision(baby_reviews['sentiment'], y_pred))\n",
    "    \n",
    "for i, pre in enumerate(b_p):\n",
    "    if pre>=0.965:\n",
    "        print(threshold_values[i])\n",
    "        break"
   ]
  },
  {
   "cell_type": "code",
   "execution_count": null,
   "metadata": {},
   "outputs": [],
   "source": []
  }
 ],
 "metadata": {
  "kernelspec": {
   "display_name": "Python 3",
   "language": "python",
   "name": "python3"
  },
  "language_info": {
   "codemirror_mode": {
    "name": "ipython",
    "version": 3
   },
   "file_extension": ".py",
   "mimetype": "text/x-python",
   "name": "python",
   "nbconvert_exporter": "python",
   "pygments_lexer": "ipython3",
   "version": "3.6.5"
  }
 },
 "nbformat": 4,
 "nbformat_minor": 2
}
