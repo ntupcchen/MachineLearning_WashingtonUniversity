{
 "cells": [
  {
   "cell_type": "code",
   "execution_count": 4,
   "metadata": {},
   "outputs": [],
   "source": [
    "import pandas as pd\n",
    "import seaborn as sns\n",
    "import numpy as np\n",
    "import matplotlib as plt\n",
    "%matplotlib inline\n",
    "products = pd.read_csv('data/amazon_baby.csv')\n",
    "train_idx = pd.read_json('data/module-2-assignment-train-idx.json')[0]\n",
    "test_idx = pd.read_json('data/module-2-assignment-test-idx.json')[0]"
   ]
  },
  {
   "cell_type": "code",
   "execution_count": 234,
   "metadata": {},
   "outputs": [],
   "source": [
    "def remove_punctuation(text):\n",
    "    import string\n",
    "    return text.translate(str.maketrans('','',string.punctuation)) #first parameter should be translate table \n",
    "\n",
    "\n",
    "def score_to_lebel(score:np.ndarray):\n",
    "    return score>0\n",
    "\n",
    "\n",
    "def score_to_probability(score: np.ndarray):\n",
    "    return 1/(1+np.exp(-score))\n",
    "\n",
    "\n",
    "def accur(y,y_predict):\n",
    "    true_pre = (y==y_predict).sum()\n",
    "    total = len(y)\n",
    "    return true_pre/total"
   ]
  },
  {
   "cell_type": "code",
   "execution_count": 272,
   "metadata": {},
   "outputs": [],
   "source": [
    "products = products.fillna({'review':''})\n",
    "products['review_clean'] = products['review'].apply(remove_punctuation)\n",
    "products = products[products['rating'] != 3]\n",
    "products['sentiment'] = products['rating'].apply(lambda r:1 if r>3 else -1)\n",
    "\n",
    "train_data = products.iloc[train_idx].reset_index()\n",
    "# train_data = train_data[train_data['rating']!=3].reset_index()\n",
    "test_data = products.iloc[test_idx].reset_index()\n",
    "# test_data = test_data[test_data['rating']!=3].reset_index()\n",
    "\n",
    "from sklearn.feature_extraction.text import CountVectorizer\n",
    "vectorizer = CountVectorizer(token_pattern=r'\\b\\w+\\b')\n",
    "     # Use this token pattern to keep single-letter words\n",
    "# First, learn vocabulary from the training data and assign columns to words\n",
    "# Then convert the training data into a sparse matrix\n",
    "train_matrix = vectorizer.fit_transform(train_data['review_clean'])\n",
    "# Second, convert the test data into a sparse matrix, using the same word-column mapping\n",
    "test_matrix = vectorizer.transform(test_data['review_clean'])"
   ]
  },
  {
   "cell_type": "code",
   "execution_count": 273,
   "metadata": {
    "scrolled": true
   },
   "outputs": [
    {
     "data": {
      "text/plain": [
       "LogisticRegression(C=1.0, class_weight=None, dual=False, fit_intercept=True,\n",
       "          intercept_scaling=1, max_iter=100, multi_class='ovr', n_jobs=1,\n",
       "          penalty='l2', random_state=None, solver='liblinear', tol=0.0001,\n",
       "          verbose=0, warm_start=False)"
      ]
     },
     "execution_count": 273,
     "metadata": {},
     "output_type": "execute_result"
    }
   ],
   "source": [
    "from sklearn.linear_model import LogisticRegression\n",
    "sentiment_model = LogisticRegression()\n",
    "sentiment_model.fit(train_matrix, train_data['sentiment'])"
   ]
  },
  {
   "cell_type": "code",
   "execution_count": 274,
   "metadata": {},
   "outputs": [
    {
     "data": {
      "text/plain": [
       "85877"
      ]
     },
     "execution_count": 274,
     "metadata": {},
     "output_type": "execute_result"
    }
   ],
   "source": [
    "positive = 0\n",
    "c=0\n",
    "for n in sentiment_model.coef_[0]:\n",
    "    if n>=0:\n",
    "        positive += 1\n",
    "    c+=1\n",
    "positive"
   ]
  },
  {
   "cell_type": "code",
   "execution_count": 277,
   "metadata": {},
   "outputs": [
    {
     "name": "stdout",
     "output_type": "stream",
     "text": [
      "[  5.60840687  -3.12665506 -10.42354879]\n"
     ]
    }
   ],
   "source": [
    "sample_test_data = test_data[10:13]\n",
    "sample_test_matrix = vectorizer.transform(sample_test_data['review_clean'])\n",
    "scores = sentiment_model.decision_function(sample_test_matrix)\n",
    "print(scores)"
   ]
  },
  {
   "cell_type": "code",
   "execution_count": 278,
   "metadata": {
    "scrolled": true
   },
   "outputs": [
    {
     "name": "stdout",
     "output_type": "stream",
     "text": [
      "[ True False False]\n",
      "[ 1 -1 -1]\n",
      "[9.96346491e-01 4.20210525e-02 2.97233236e-05]\n",
      "[[3.65350948e-03 9.96346491e-01]\n",
      " [9.57978948e-01 4.20210525e-02]\n",
      " [9.99970277e-01 2.97233236e-05]]\n"
     ]
    }
   ],
   "source": [
    "print(score_to_lebel(scores))\n",
    "print(sentiment_model.predict(sample_test_matrix))\n",
    "print(score_to_probability(scores))\n",
    "print(sentiment_model.predict_proba(sample_test_matrix))"
   ]
  },
  {
   "cell_type": "code",
   "execution_count": 282,
   "metadata": {},
   "outputs": [],
   "source": [
    "test_data['predicted_sentiment'] = sentiment_model.predict(test_matrix)\n",
    "test_data['fx'] = sentiment_model.decision_function(test_matrix)\n",
    "test_data['prob'] = sentiment_model.predict_proba(test_matrix)[:,1]"
   ]
  },
  {
   "cell_type": "code",
   "execution_count": 288,
   "metadata": {},
   "outputs": [
    {
     "data": {
      "text/html": [
       "<div>\n",
       "<style scoped>\n",
       "    .dataframe tbody tr th:only-of-type {\n",
       "        vertical-align: middle;\n",
       "    }\n",
       "\n",
       "    .dataframe tbody tr th {\n",
       "        vertical-align: top;\n",
       "    }\n",
       "\n",
       "    .dataframe thead th {\n",
       "        text-align: right;\n",
       "    }\n",
       "</style>\n",
       "<table border=\"1\" class=\"dataframe\">\n",
       "  <thead>\n",
       "    <tr style=\"text-align: right;\">\n",
       "      <th></th>\n",
       "      <th>index</th>\n",
       "      <th>name</th>\n",
       "      <th>review</th>\n",
       "      <th>rating</th>\n",
       "      <th>review_clean</th>\n",
       "      <th>sentiment</th>\n",
       "      <th>predicted_sentiment</th>\n",
       "      <th>fx</th>\n",
       "      <th>prob</th>\n",
       "    </tr>\n",
       "  </thead>\n",
       "  <tbody>\n",
       "    <tr>\n",
       "      <th>2931</th>\n",
       "      <td>16042</td>\n",
       "      <td>Fisher-Price Ocean Wonders Aquarium Bouncer</td>\n",
       "      <td>We have not had ANY luck with Fisher-Price pro...</td>\n",
       "      <td>2</td>\n",
       "      <td>We have not had ANY luck with FisherPrice prod...</td>\n",
       "      <td>-1</td>\n",
       "      <td>-1</td>\n",
       "      <td>-34.626044</td>\n",
       "      <td>9.164320e-16</td>\n",
       "    </tr>\n",
       "    <tr>\n",
       "      <th>21700</th>\n",
       "      <td>120209</td>\n",
       "      <td>Levana Safe N'See Digital Video Baby Monitor w...</td>\n",
       "      <td>This is the first review I have ever written o...</td>\n",
       "      <td>1</td>\n",
       "      <td>This is the first review I have ever written o...</td>\n",
       "      <td>-1</td>\n",
       "      <td>-1</td>\n",
       "      <td>-33.930690</td>\n",
       "      <td>1.836912e-15</td>\n",
       "    </tr>\n",
       "    <tr>\n",
       "      <th>13939</th>\n",
       "      <td>77072</td>\n",
       "      <td>Safety 1st Exchangeable Tip 3 in 1 Thermometer</td>\n",
       "      <td>I thought it sounded great to have different t...</td>\n",
       "      <td>1</td>\n",
       "      <td>I thought it sounded great to have different t...</td>\n",
       "      <td>-1</td>\n",
       "      <td>-1</td>\n",
       "      <td>-30.172757</td>\n",
       "      <td>7.872963e-14</td>\n",
       "    </tr>\n",
       "    <tr>\n",
       "      <th>8818</th>\n",
       "      <td>48694</td>\n",
       "      <td>Adiri BPA Free Natural Nurser Ultimate Bottle ...</td>\n",
       "      <td>I will try to write an objective review of the...</td>\n",
       "      <td>2</td>\n",
       "      <td>I will try to write an objective review of the...</td>\n",
       "      <td>-1</td>\n",
       "      <td>-1</td>\n",
       "      <td>-29.616507</td>\n",
       "      <td>1.373138e-13</td>\n",
       "    </tr>\n",
       "    <tr>\n",
       "      <th>28184</th>\n",
       "      <td>155287</td>\n",
       "      <td>VTech Communications Safe &amp;amp; Sounds Full Co...</td>\n",
       "      <td>This is my second video monitoring system, the...</td>\n",
       "      <td>1</td>\n",
       "      <td>This is my second video monitoring system the ...</td>\n",
       "      <td>-1</td>\n",
       "      <td>-1</td>\n",
       "      <td>-29.227920</td>\n",
       "      <td>2.025236e-13</td>\n",
       "    </tr>\n",
       "    <tr>\n",
       "      <th>17069</th>\n",
       "      <td>94560</td>\n",
       "      <td>The First Years True Choice P400 Premium Digit...</td>\n",
       "      <td>Note: we never installed batteries in these un...</td>\n",
       "      <td>1</td>\n",
       "      <td>Note we never installed batteries in these uni...</td>\n",
       "      <td>-1</td>\n",
       "      <td>-1</td>\n",
       "      <td>-28.455362</td>\n",
       "      <td>4.385238e-13</td>\n",
       "    </tr>\n",
       "    <tr>\n",
       "      <th>9655</th>\n",
       "      <td>53207</td>\n",
       "      <td>Safety 1st High-Def Digital Monitor</td>\n",
       "      <td>We bought this baby monitor to replace a diffe...</td>\n",
       "      <td>1</td>\n",
       "      <td>We bought this baby monitor to replace a diffe...</td>\n",
       "      <td>-1</td>\n",
       "      <td>-1</td>\n",
       "      <td>-24.074759</td>\n",
       "      <td>3.503202e-11</td>\n",
       "    </tr>\n",
       "    <tr>\n",
       "      <th>14711</th>\n",
       "      <td>81332</td>\n",
       "      <td>Cloth Diaper Sprayer--styles may vary</td>\n",
       "      <td>I bought this sprayer out of desperation durin...</td>\n",
       "      <td>1</td>\n",
       "      <td>I bought this sprayer out of desperation durin...</td>\n",
       "      <td>-1</td>\n",
       "      <td>-1</td>\n",
       "      <td>-23.989734</td>\n",
       "      <td>3.814091e-11</td>\n",
       "    </tr>\n",
       "    <tr>\n",
       "      <th>20594</th>\n",
       "      <td>113995</td>\n",
       "      <td>Motorola Digital Video Baby Monitor with Room ...</td>\n",
       "      <td>DO NOT BUY THIS BABY MONITOR!I purchased this ...</td>\n",
       "      <td>1</td>\n",
       "      <td>DO NOT BUY THIS BABY MONITORI purchased this m...</td>\n",
       "      <td>-1</td>\n",
       "      <td>-1</td>\n",
       "      <td>-23.086585</td>\n",
       "      <td>9.410738e-11</td>\n",
       "    </tr>\n",
       "    <tr>\n",
       "      <th>1942</th>\n",
       "      <td>10677</td>\n",
       "      <td>Philips AVENT Newborn Starter Set</td>\n",
       "      <td>It's 3am in the morning and needless to say, t...</td>\n",
       "      <td>1</td>\n",
       "      <td>Its 3am in the morning and needless to say thi...</td>\n",
       "      <td>-1</td>\n",
       "      <td>-1</td>\n",
       "      <td>-22.994054</td>\n",
       "      <td>1.032308e-10</td>\n",
       "    </tr>\n",
       "    <tr>\n",
       "      <th>10814</th>\n",
       "      <td>59546</td>\n",
       "      <td>Ellaroo Mei Tai Baby Carrier - Hershey</td>\n",
       "      <td>This is basically an overpriced piece of fabri...</td>\n",
       "      <td>1</td>\n",
       "      <td>This is basically an overpriced piece of fabri...</td>\n",
       "      <td>-1</td>\n",
       "      <td>-1</td>\n",
       "      <td>-21.505743</td>\n",
       "      <td>4.572720e-10</td>\n",
       "    </tr>\n",
       "    <tr>\n",
       "      <th>1810</th>\n",
       "      <td>9915</td>\n",
       "      <td>Cosco Alpha Omega Elite Convertible Car Seat</td>\n",
       "      <td>I bought this car seat after both seeing  the ...</td>\n",
       "      <td>1</td>\n",
       "      <td>I bought this car seat after both seeing  the ...</td>\n",
       "      <td>-1</td>\n",
       "      <td>-1</td>\n",
       "      <td>-21.487261</td>\n",
       "      <td>4.658017e-10</td>\n",
       "    </tr>\n",
       "    <tr>\n",
       "      <th>31226</th>\n",
       "      <td>172090</td>\n",
       "      <td>Belkin WeMo Wi-Fi Baby Monitor for Apple iPhon...</td>\n",
       "      <td>I read so many reviews saying the Belkin WiFi ...</td>\n",
       "      <td>2</td>\n",
       "      <td>I read so many reviews saying the Belkin WiFi ...</td>\n",
       "      <td>-1</td>\n",
       "      <td>-1</td>\n",
       "      <td>-21.229078</td>\n",
       "      <td>6.030158e-10</td>\n",
       "    </tr>\n",
       "    <tr>\n",
       "      <th>13751</th>\n",
       "      <td>75994</td>\n",
       "      <td>Peg-Perego Tatamia High Chair, White Latte</td>\n",
       "      <td>I can see why there are so many good reviews o...</td>\n",
       "      <td>2</td>\n",
       "      <td>I can see why there are so many good reviews o...</td>\n",
       "      <td>-1</td>\n",
       "      <td>-1</td>\n",
       "      <td>-21.159346</td>\n",
       "      <td>6.465659e-10</td>\n",
       "    </tr>\n",
       "    <tr>\n",
       "      <th>7310</th>\n",
       "      <td>40079</td>\n",
       "      <td>Chicco Cortina KeyFit 30 Travel System in Adve...</td>\n",
       "      <td>My wife and I have used this system in two car...</td>\n",
       "      <td>1</td>\n",
       "      <td>My wife and I have used this system in two car...</td>\n",
       "      <td>-1</td>\n",
       "      <td>-1</td>\n",
       "      <td>-21.135590</td>\n",
       "      <td>6.621094e-10</td>\n",
       "    </tr>\n",
       "    <tr>\n",
       "      <th>27231</th>\n",
       "      <td>149987</td>\n",
       "      <td>NUK Cook-n-Blend Baby Food Maker</td>\n",
       "      <td>It thought this would be great. I did a lot of...</td>\n",
       "      <td>1</td>\n",
       "      <td>It thought this would be great I did a lot of ...</td>\n",
       "      <td>-1</td>\n",
       "      <td>-1</td>\n",
       "      <td>-20.993507</td>\n",
       "      <td>7.631958e-10</td>\n",
       "    </tr>\n",
       "    <tr>\n",
       "      <th>28120</th>\n",
       "      <td>154878</td>\n",
       "      <td>VTech Communications Safe &amp;amp; Sound Digital ...</td>\n",
       "      <td>First, the distance on these are no more than ...</td>\n",
       "      <td>1</td>\n",
       "      <td>First the distance on these are no more than 7...</td>\n",
       "      <td>-1</td>\n",
       "      <td>-1</td>\n",
       "      <td>-20.858500</td>\n",
       "      <td>8.735111e-10</td>\n",
       "    </tr>\n",
       "    <tr>\n",
       "      <th>205</th>\n",
       "      <td>1116</td>\n",
       "      <td>Safety 1st Deluxe 4-in-1 Bath Station</td>\n",
       "      <td>This item is junk.  I originally chose it beca...</td>\n",
       "      <td>1</td>\n",
       "      <td>This item is junk  I originally chose it becau...</td>\n",
       "      <td>-1</td>\n",
       "      <td>-1</td>\n",
       "      <td>-20.611299</td>\n",
       "      <td>1.118476e-09</td>\n",
       "    </tr>\n",
       "    <tr>\n",
       "      <th>15062</th>\n",
       "      <td>83234</td>\n",
       "      <td>Thirsties Hemp Inserts 2 Pack, Small 6-18 Lbs</td>\n",
       "      <td>My Experience: Babykicks Inserts failure vs RA...</td>\n",
       "      <td>5</td>\n",
       "      <td>My Experience Babykicks Inserts failure vs RAV...</td>\n",
       "      <td>1</td>\n",
       "      <td>-1</td>\n",
       "      <td>-20.356566</td>\n",
       "      <td>1.442964e-09</td>\n",
       "    </tr>\n",
       "    <tr>\n",
       "      <th>5831</th>\n",
       "      <td>31741</td>\n",
       "      <td>Regalo My Cot Portable Bed, Royal Blue</td>\n",
       "      <td>If I could give this product zero stars I woul...</td>\n",
       "      <td>1</td>\n",
       "      <td>If I could give this product zero stars I woul...</td>\n",
       "      <td>-1</td>\n",
       "      <td>-1</td>\n",
       "      <td>-20.202899</td>\n",
       "      <td>1.682644e-09</td>\n",
       "    </tr>\n",
       "  </tbody>\n",
       "</table>\n",
       "</div>"
      ],
      "text/plain": [
       "        index                                               name  \\\n",
       "2931    16042        Fisher-Price Ocean Wonders Aquarium Bouncer   \n",
       "21700  120209  Levana Safe N'See Digital Video Baby Monitor w...   \n",
       "13939   77072     Safety 1st Exchangeable Tip 3 in 1 Thermometer   \n",
       "8818    48694  Adiri BPA Free Natural Nurser Ultimate Bottle ...   \n",
       "28184  155287  VTech Communications Safe &amp; Sounds Full Co...   \n",
       "17069   94560  The First Years True Choice P400 Premium Digit...   \n",
       "9655    53207                Safety 1st High-Def Digital Monitor   \n",
       "14711   81332              Cloth Diaper Sprayer--styles may vary   \n",
       "20594  113995  Motorola Digital Video Baby Monitor with Room ...   \n",
       "1942    10677                  Philips AVENT Newborn Starter Set   \n",
       "10814   59546             Ellaroo Mei Tai Baby Carrier - Hershey   \n",
       "1810     9915       Cosco Alpha Omega Elite Convertible Car Seat   \n",
       "31226  172090  Belkin WeMo Wi-Fi Baby Monitor for Apple iPhon...   \n",
       "13751   75994         Peg-Perego Tatamia High Chair, White Latte   \n",
       "7310    40079  Chicco Cortina KeyFit 30 Travel System in Adve...   \n",
       "27231  149987                   NUK Cook-n-Blend Baby Food Maker   \n",
       "28120  154878  VTech Communications Safe &amp; Sound Digital ...   \n",
       "205      1116              Safety 1st Deluxe 4-in-1 Bath Station   \n",
       "15062   83234      Thirsties Hemp Inserts 2 Pack, Small 6-18 Lbs   \n",
       "5831    31741             Regalo My Cot Portable Bed, Royal Blue   \n",
       "\n",
       "                                                  review  rating  \\\n",
       "2931   We have not had ANY luck with Fisher-Price pro...       2   \n",
       "21700  This is the first review I have ever written o...       1   \n",
       "13939  I thought it sounded great to have different t...       1   \n",
       "8818   I will try to write an objective review of the...       2   \n",
       "28184  This is my second video monitoring system, the...       1   \n",
       "17069  Note: we never installed batteries in these un...       1   \n",
       "9655   We bought this baby monitor to replace a diffe...       1   \n",
       "14711  I bought this sprayer out of desperation durin...       1   \n",
       "20594  DO NOT BUY THIS BABY MONITOR!I purchased this ...       1   \n",
       "1942   It's 3am in the morning and needless to say, t...       1   \n",
       "10814  This is basically an overpriced piece of fabri...       1   \n",
       "1810   I bought this car seat after both seeing  the ...       1   \n",
       "31226  I read so many reviews saying the Belkin WiFi ...       2   \n",
       "13751  I can see why there are so many good reviews o...       2   \n",
       "7310   My wife and I have used this system in two car...       1   \n",
       "27231  It thought this would be great. I did a lot of...       1   \n",
       "28120  First, the distance on these are no more than ...       1   \n",
       "205    This item is junk.  I originally chose it beca...       1   \n",
       "15062  My Experience: Babykicks Inserts failure vs RA...       5   \n",
       "5831   If I could give this product zero stars I woul...       1   \n",
       "\n",
       "                                            review_clean  sentiment  \\\n",
       "2931   We have not had ANY luck with FisherPrice prod...         -1   \n",
       "21700  This is the first review I have ever written o...         -1   \n",
       "13939  I thought it sounded great to have different t...         -1   \n",
       "8818   I will try to write an objective review of the...         -1   \n",
       "28184  This is my second video monitoring system the ...         -1   \n",
       "17069  Note we never installed batteries in these uni...         -1   \n",
       "9655   We bought this baby monitor to replace a diffe...         -1   \n",
       "14711  I bought this sprayer out of desperation durin...         -1   \n",
       "20594  DO NOT BUY THIS BABY MONITORI purchased this m...         -1   \n",
       "1942   Its 3am in the morning and needless to say thi...         -1   \n",
       "10814  This is basically an overpriced piece of fabri...         -1   \n",
       "1810   I bought this car seat after both seeing  the ...         -1   \n",
       "31226  I read so many reviews saying the Belkin WiFi ...         -1   \n",
       "13751  I can see why there are so many good reviews o...         -1   \n",
       "7310   My wife and I have used this system in two car...         -1   \n",
       "27231  It thought this would be great I did a lot of ...         -1   \n",
       "28120  First the distance on these are no more than 7...         -1   \n",
       "205    This item is junk  I originally chose it becau...         -1   \n",
       "15062  My Experience Babykicks Inserts failure vs RAV...          1   \n",
       "5831   If I could give this product zero stars I woul...         -1   \n",
       "\n",
       "       predicted_sentiment         fx          prob  \n",
       "2931                    -1 -34.626044  9.164320e-16  \n",
       "21700                   -1 -33.930690  1.836912e-15  \n",
       "13939                   -1 -30.172757  7.872963e-14  \n",
       "8818                    -1 -29.616507  1.373138e-13  \n",
       "28184                   -1 -29.227920  2.025236e-13  \n",
       "17069                   -1 -28.455362  4.385238e-13  \n",
       "9655                    -1 -24.074759  3.503202e-11  \n",
       "14711                   -1 -23.989734  3.814091e-11  \n",
       "20594                   -1 -23.086585  9.410738e-11  \n",
       "1942                    -1 -22.994054  1.032308e-10  \n",
       "10814                   -1 -21.505743  4.572720e-10  \n",
       "1810                    -1 -21.487261  4.658017e-10  \n",
       "31226                   -1 -21.229078  6.030158e-10  \n",
       "13751                   -1 -21.159346  6.465659e-10  \n",
       "7310                    -1 -21.135590  6.621094e-10  \n",
       "27231                   -1 -20.993507  7.631958e-10  \n",
       "28120                   -1 -20.858500  8.735111e-10  \n",
       "205                     -1 -20.611299  1.118476e-09  \n",
       "15062                   -1 -20.356566  1.442964e-09  \n",
       "5831                    -1 -20.202899  1.682644e-09  "
      ]
     },
     "execution_count": 288,
     "metadata": {},
     "output_type": "execute_result"
    }
   ],
   "source": [
    "test_data.nsmallest(20,['fx','prob'])"
   ]
  },
  {
   "cell_type": "code",
   "execution_count": 280,
   "metadata": {},
   "outputs": [
    {
     "data": {
      "text/plain": [
       "0.9321154307655387"
      ]
     },
     "execution_count": 280,
     "metadata": {},
     "output_type": "execute_result"
    }
   ],
   "source": [
    "accur(test_data['sentiment'],test_data['predicted_sentiment'])"
   ]
  },
  {
   "cell_type": "code",
   "execution_count": 289,
   "metadata": {},
   "outputs": [],
   "source": [
    "significant_words = ['love', 'great', 'easy', 'old', 'little', 'perfect', 'loves', \n",
    "      'well', 'able', 'car', 'broke', 'less', 'even', 'waste', 'disappointed', \n",
    "      'work', 'product', 'money', 'would', 'return']\n",
    "vectorizer_word_subset = CountVectorizer(vocabulary=significant_words) # limit to 20 words\n",
    "train_matrix_word_subset = vectorizer_word_subset.fit_transform(train_data['review_clean'])\n",
    "test_matrix_word_subset = vectorizer_word_subset.transform(test_data['review_clean'])\n",
    "\n",
    "simple_model = LogisticRegression().fit(train_matrix_word_subset,train_data['sentiment'])"
   ]
  },
  {
   "cell_type": "code",
   "execution_count": 290,
   "metadata": {
    "scrolled": true
   },
   "outputs": [
    {
     "name": "stdout",
     "output_type": "stream",
     "text": [
      "1.3636897593104937 love\n",
      "0.9439995905719677 great\n",
      "1.1925382734890588 easy\n",
      "0.08551277946303547 old\n",
      "0.5201857627181392 little\n",
      "1.5098124766917815 perfect\n",
      "1.6730738925932755 loves\n",
      "0.5037604577675278 well\n",
      "0.1909085720643394 able\n",
      "0.058854671152739374 car\n",
      "-1.651576344965244 broke\n",
      "-0.20956286453464426 less\n",
      "-0.5113796317990279 even\n",
      "-2.0336986139402082 waste\n",
      "-2.3482982195022064 disappointed\n",
      "-0.6211687736417648 work\n",
      "-0.32055623673460826 product\n",
      "-0.8980307377150831 money\n",
      "-0.3621667422737741 would\n",
      "-2.109331090318681 return\n"
     ]
    }
   ],
   "source": [
    "word_coef_table={}\n",
    "for i in range(20):\n",
    "    word_coef_table[significant_words[i]]=simple_model.coef_[0][i]\n",
    "\n",
    "for k,v in word_coef_table.items():\n",
    "    print(v,k)"
   ]
  },
  {
   "cell_type": "code",
   "execution_count": 291,
   "metadata": {
    "scrolled": true
   },
   "outputs": [
    {
     "data": {
      "text/plain": [
       "array([ 1,  1,  1,  1,  1,  1,  1,  1,  1,  1, -1,  1,  1, -1, -1,  1,  1,\n",
       "        1,  1, -1], dtype=int64)"
      ]
     },
     "execution_count": 291,
     "metadata": {},
     "output_type": "execute_result"
    }
   ],
   "source": [
    "a = vectorizer.transform(significant_words)\n",
    "sentiment_model.predict(a)"
   ]
  },
  {
   "cell_type": "code",
   "execution_count": 292,
   "metadata": {},
   "outputs": [
    {
     "name": "stdout",
     "output_type": "stream",
     "text": [
      "0.967934880374168\n",
      "0.8668225700065959\n"
     ]
    }
   ],
   "source": [
    "print(accur(train_data['sentiment'],sentiment_model.predict(train_matrix)))\n",
    "print(accur(train_data['sentiment'],simple_model.predict(train_matrix_word_subset)))"
   ]
  },
  {
   "cell_type": "code",
   "execution_count": 293,
   "metadata": {
    "scrolled": true
   },
   "outputs": [
    {
     "name": "stdout",
     "output_type": "stream",
     "text": [
      "0.9321154307655387\n",
      "0.8693604511639069\n"
     ]
    }
   ],
   "source": [
    "print(accur(test_data['sentiment'],sentiment_model.predict(test_matrix)))\n",
    "print(accur(test_data['sentiment'],simple_model.predict(test_matrix_word_subset)))"
   ]
  },
  {
   "cell_type": "code",
   "execution_count": 294,
   "metadata": {},
   "outputs": [
    {
     "name": "stdout",
     "output_type": "stream",
     "text": [
      "0.8427825773938085\n"
     ]
    }
   ],
   "source": [
    "test_data['majority']=1\n",
    "print(accur(test_data['sentiment'],test_data['majority']))"
   ]
  },
  {
   "cell_type": "markdown",
   "metadata": {},
   "source": [
    "fancy index會讓df變小 -> data point的index改變"
   ]
  }
 ],
 "metadata": {
  "kernelspec": {
   "display_name": "Python 3",
   "language": "python",
   "name": "python3"
  },
  "language_info": {
   "codemirror_mode": {
    "name": "ipython",
    "version": 3
   },
   "file_extension": ".py",
   "mimetype": "text/x-python",
   "name": "python",
   "nbconvert_exporter": "python",
   "pygments_lexer": "ipython3",
   "version": "3.6.5"
  }
 },
 "nbformat": 4,
 "nbformat_minor": 2
}
