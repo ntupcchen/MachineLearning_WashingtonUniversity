{
 "cells": [
  {
   "cell_type": "code",
   "execution_count": 128,
   "metadata": {},
   "outputs": [],
   "source": [
    "import pandas as pd\n",
    "import seaborn as sns\n",
    "import numpy as np\n",
    "import matplotlib as plt\n",
    "%matplotlib inline\n",
    "dtype_dict = {'bathrooms':float, 'waterfront':int, 'sqft_above':int, 'sqft_living15':float, 'grade':int, 'yr_renovated':int, 'price':float, 'bedrooms':float, 'zipcode':str, 'long':float, 'sqft_lot15':float, 'sqft_living':float, 'floors':str, 'condition':int, 'lat':float, 'date':str, 'sqft_basement':int, 'yr_built':int, 'id':str, 'sqft_lot':int, 'view':int}\n",
    "khouse_train = pd.read_csv('knn data/kc_house_data_small_train.csv',dtype =dtype_dict)\n",
    "khouse_test = pd.read_csv('knn data/kc_house_data_small_test.csv',dtype = dtype_dict)\n",
    "khouse_valid = pd.read_csv('knn data/kc_house_data_validation.csv',dtype=dtype_dict)\n",
    "\n",
    "khouse_train, train_y = clean_features(khouse_train)\n",
    "khouse_test, test_y = clean_features(khouse_test)\n",
    "khouse_valid, valid_y = clean_features(khouse_valid)\n",
    "\n",
    "khouse_train, norms = normalize_features(khouse_train)\n",
    "\n",
    "khouse_test = khouse_test / norms\n",
    "khouse_valid = khouse_valid / norms"
   ]
  },
  {
   "cell_type": "code",
   "execution_count": 156,
   "metadata": {},
   "outputs": [],
   "source": [
    "def RSS(y,y_est):\n",
    "    return ((y-y_est)**2).sum()\n",
    "\n",
    "\n",
    "def set_data(features, output):\n",
    "    features['constant'] = 1\n",
    "    features.set_axis([i for i in range(features.shape[1])],axis='columns',inplace=True)\n",
    "    return (features, output)\n",
    "\n",
    "\n",
    "# def predict_output(feature_matrix, weights):\n",
    "#     return (feature_matrix*weights).sum(axis=1)\n",
    "\n",
    "\n",
    "def normalize_features(features):\n",
    "    norms = np.linalg.norm(features,axis=0)\n",
    "    return (features/norms,norms)\n",
    "\n",
    "\n",
    "def clean_features(df):\n",
    "    df['floors'] = df['floors'].astype('float64')\n",
    "    df['zipcode'] = df['zipcode'].astype('float64')\n",
    "    df = df[[df.columns[i] for i in range(df.shape[1]) if df.dtypes[i] !='O']]\n",
    "    y = df['price']\n",
    "    df =df.drop(columns=['price'])\n",
    "    return (df,y)\n",
    "\n",
    "\n",
    "def distance(node1,node2):\n",
    "    return np.sqrt(np.sum((node1-node2)**2))\n",
    "\n",
    "\n",
    "def compute_distances(features_instances: pd.core.frame.DataFrame, features_query: pd.core.series.Series) -> list:\n",
    "    return np.sqrt(np.sum((features_instances-features_query)**2,axis=1))\n",
    "\n",
    "\n",
    "def k_nearest_neighbors(k, features_train, features_query):\n",
    "    dis = compute_distances(features_train,features_query)\n",
    "    return np.argsort(dis)[0:k]\n",
    "\n",
    "\n",
    "def predict_output_of_query(k, features_train, output_train, features_query):\n",
    "    nearest_idx = k_nearest_neighbors(k, features_train, features_query)\n",
    "    return output_train[nearest_idx].sum()/k\n",
    "\n",
    "def predict_output(k, features_train, output_train, features_query):\n",
    "    predictions = np.array([])\n",
    "    for i in range(features_query.shape[0]):\n",
    "        predictions = np.append(predictions,predict_output_of_query(k, features_train, output_train, features_query.loc[i]))\n",
    "    return predictions"
   ]
  },
  {
   "cell_type": "code",
   "execution_count": 122,
   "metadata": {},
   "outputs": [
    {
     "name": "stdout",
     "output_type": "stream",
     "text": [
      "Distance:  0.05972359371398078\n"
     ]
    }
   ],
   "source": [
    "simple_features = ['sqft_living','bedrooms']\n",
    "# (simple_feature_matrix, train_y) = set_data(khouse_train[simple_features].copy(), khouse_train['price'])\n",
    "# (simple_feature_matrix, train_y) = set_data(khouse_test[simple_features].copy(), khouse_train['price'])\n",
    "# (simple_feature_matrix, train_y) = set_data(khouse_valid[simple_features].copy(), khouse_train['price'])\n",
    "\n",
    "dis = np.sqrt(np.sum((khouse_test.loc[0]-khouse_train.loc[9])**2))\n",
    "print('Distance: ',dis)"
   ]
  },
  {
   "cell_type": "code",
   "execution_count": 123,
   "metadata": {},
   "outputs": [
    {
     "name": "stdout",
     "output_type": "stream",
     "text": [
      "0 0.06027470916295592\n",
      "1 0.08546881147643746\n",
      "2 0.06149946435279315\n",
      "3 0.05340273979294363\n",
      "4 0.05844484060170442\n",
      "5 0.059879215098128345\n",
      "6 0.0546314049677546\n",
      "7 0.05543108323614607\n",
      "8 0.052383627840220305\n",
      "9 0.05972359371398078\n"
     ]
    }
   ],
   "source": [
    "for i in range(10):\n",
    "    print(i, distance(khouse_test.loc[0],khouse_train.loc[i]))"
   ]
  },
  {
   "cell_type": "code",
   "execution_count": 129,
   "metadata": {
    "scrolled": true
   },
   "outputs": [
    {
     "name": "stdout",
     "output_type": "stream",
     "text": [
      "382\n",
      "0.0028605187556923974\n",
      "Predict:  249000.0\n"
     ]
    }
   ],
   "source": [
    "m = compute_distances(khouse_train,khouse_test.loc[2])\n",
    "print(m.idxmin())\n",
    "print(m.min())\n",
    "print('Predict: ',train_y[m.idxmin()])"
   ]
  },
  {
   "cell_type": "code",
   "execution_count": 142,
   "metadata": {},
   "outputs": [
    {
     "name": "stdout",
     "output_type": "stream",
     "text": [
      "0     382\n",
      "1    1149\n",
      "2    4087\n",
      "3    3142\n",
      "dtype: int64\n"
     ]
    },
    {
     "data": {
      "text/plain": [
       "413987.5"
      ]
     },
     "execution_count": 142,
     "metadata": {},
     "output_type": "execute_result"
    }
   ],
   "source": [
    "m = k_nearest_neighbors(4,khouse_train,khouse_test.loc[2])\n",
    "print(m)\n",
    "predict_output_of_query(4,khouse_train,train_y,khouse_test.loc[2])"
   ]
  },
  {
   "cell_type": "code",
   "execution_count": 157,
   "metadata": {},
   "outputs": [
    {
     "data": {
      "text/plain": [
       "array([881300. , 431860. , 460595. , 430200. , 766750. , 667420. ,\n",
       "       350032. , 512800.7, 484000. , 457235. ])"
      ]
     },
     "execution_count": 157,
     "metadata": {},
     "output_type": "execute_result"
    }
   ],
   "source": [
    "predict_output(10, khouse_train,train_y,khouse_test.loc[0:9])"
   ]
  },
  {
   "cell_type": "code",
   "execution_count": 159,
   "metadata": {},
   "outputs": [
    {
     "name": "stdout",
     "output_type": "stream",
     "text": [
      "105453830251561.0 1\n",
      "83445073504025.5 2\n",
      "72692096019202.56 3\n",
      "71946721652091.69 4\n",
      "69846517419718.6 5\n",
      "68899544353180.836 6\n",
      "68341973450051.09 7\n",
      "67361678735491.5 8\n",
      "68372727958976.09 9\n",
      "69335048668556.74 10\n",
      "69523855215598.83 11\n",
      "69048535243496.17 12\n",
      "70011254508263.69 13\n",
      "70908698869034.34 14\n",
      "71106928385945.16 15\n"
     ]
    }
   ],
   "source": [
    "# Use validation set to choose k\n",
    "for i in range(1,16):\n",
    "    p = predict_output(i,khouse_train,train_y,khouse_valid)\n",
    "    print(RSS(valid_y,p),i)"
   ]
  },
  {
   "cell_type": "code",
   "execution_count": 161,
   "metadata": {
    "scrolled": true
   },
   "outputs": [
    {
     "name": "stdout",
     "output_type": "stream",
     "text": [
      "1.331188e+14\n"
     ]
    }
   ],
   "source": [
    "# Test error of KNN \n",
    "p = predict_output(8,khouse_train,train_y,khouse_test)\n",
    "print('{:e}'.format(RSS(test_y,p)))"
   ]
  }
 ],
 "metadata": {
  "kernelspec": {
   "display_name": "Python 3",
   "language": "python",
   "name": "python3"
  },
  "language_info": {
   "codemirror_mode": {
    "name": "ipython",
    "version": 3
   },
   "file_extension": ".py",
   "mimetype": "text/x-python",
   "name": "python",
   "nbconvert_exporter": "python",
   "pygments_lexer": "ipython3",
   "version": "3.6.5"
  }
 },
 "nbformat": 4,
 "nbformat_minor": 2
}
