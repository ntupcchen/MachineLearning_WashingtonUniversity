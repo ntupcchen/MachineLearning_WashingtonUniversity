{
 "cells": [
  {
   "cell_type": "code",
   "execution_count": 41,
   "metadata": {},
   "outputs": [],
   "source": [
    "import pandas as pd\n",
    "import seaborn as sns\n",
    "import numpy as np\n",
    "import matplotlib as plt\n",
    "%matplotlib inline\n",
    "dtype_dict = {'bathrooms':float, 'waterfront':int, 'sqft_above':int, 'sqft_living15':float, 'grade':int, 'yr_renovated':int, 'price':float, 'bedrooms':float, 'zipcode':str, 'long':float, 'sqft_lot15':float, 'sqft_living':float, 'floors':str, 'condition':int, 'lat':float, 'date':str, 'sqft_basement':int, 'yr_built':int, 'id':str, 'sqft_lot':int, 'view':int}\n",
    "khouse_train = pd.read_csv('kc_house_train_data.csv',dtype = {'bathrooms':float, 'waterfront':int, 'sqft_above':int, 'sqft_living15':float, 'grade':int, 'yr_renovated':int, 'price':float, 'bedrooms':float, 'zipcode':str, 'long':float, 'sqft_lot15':float, 'sqft_living':float, 'floors':str, 'condition':int, 'lat':float, 'date':str, 'sqft_basement':int, 'yr_built':int, 'id':str, 'sqft_lot':int, 'view':int})\n",
    "khouse_test = pd.read_csv('kc_house_test_data.csv',dtype = {'bathrooms':float, 'waterfront':int, 'sqft_above':int, 'sqft_living15':float, 'grade':int, 'yr_renovated':int, 'price':float, 'bedrooms':float, 'zipcode':str, 'long':float, 'sqft_lot15':float, 'sqft_living':float, 'floors':str, 'condition':int, 'lat':float, 'date':str, 'sqft_basement':int, 'yr_built':int, 'id':str, 'sqft_lot':int, 'view':int})\n",
    "khouse_all = pd.read_csv('assessment data/kc_house_data.csv',dtype=dtype_dict)"
   ]
  },
  {
   "cell_type": "code",
   "execution_count": 192,
   "metadata": {},
   "outputs": [],
   "source": [
    "def RSS(y,y_est):\n",
    "    return ((y-y_est)**2).sum()\n",
    "\n",
    "\n",
    "def set_data(features, output):\n",
    "    features['constant'] = 1\n",
    "    features.set_axis([i for i in range(features.shape[1])],axis='columns',inplace=True)\n",
    "    return (features, output)\n",
    "\n",
    "\n",
    "def predict_output(feature_matrix, weights):\n",
    "    return (feature_matrix*weights).sum(axis=1)\n",
    "\n",
    "\n",
    "def normalize_features(features):\n",
    "    norms = np.linalg.norm(features,axis=0)\n",
    "    return (features/norms,norms)\n",
    "\n",
    "\n",
    "def lasso_coordinate_descent_step(i, feature_matrix, output, weights, l1_penalty):\n",
    "    prediction = predict_output(feature_matrix, weights)\n",
    "\n",
    "    ro_i = (feature_matrix[i]*(output-prediction+weights[i]*feature_matrix[i])).sum()\n",
    "\n",
    "    if i == feature_matrix.shape[1]-1: # intercept -- do not regularize\n",
    "        new_weight_i = ro_i\n",
    "    elif ro_i < -l1_penalty/2.:\n",
    "        new_weight_i = ro_i+(l1_penalty/2)\n",
    "    elif ro_i > l1_penalty/2.:\n",
    "        new_weight_i = ro_i-(l1_penalty/2)\n",
    "    else:\n",
    "        new_weight_i = 0.\n",
    "    \n",
    "    return new_weight_i\n",
    "\n",
    "\n",
    "def lasso_cyclical_coordinate_descent(feature_matrix, output, initial_weights, l1_penalty, tolerance):\n",
    "    weights = initial_weights\n",
    "    max_step = tolerance+1\n",
    "    while max_step>tolerance:\n",
    "        max_step = 0\n",
    "        for i in range(feature_matrix.shape[1]):\n",
    "            nw = lasso_coordinate_descent_step(i, feature_matrix, output, weights, l1_penalty)\n",
    "            dif = abs(weights[i]-nw)\n",
    "            if dif>max_step:\n",
    "                max_step = dif\n",
    "            weights[i] = nw\n",
    "    return weights"
   ]
  },
  {
   "cell_type": "code",
   "execution_count": 226,
   "metadata": {},
   "outputs": [
    {
     "name": "stdout",
     "output_type": "stream",
     "text": [
      "1.400000e+08 17939467.991878748 10966701.497612491 79400299.86693393\n",
      "1.640000e+06 87119467.99187875 80146701.49761249 79400299.86693393\n",
      "1.730000e+08 1439467.991878748 0.0 79400299.86693393\n",
      "1.900000e+08 0.0 0.0 79400299.86693393\n",
      "2.300000e+08 0.0 0.0 79400299.86693393\n"
     ]
    }
   ],
   "source": [
    "simple_features = ['sqft_living','bedrooms']\n",
    "(simple_feature_matrix, simple_output) = set_data(khouse_all[simple_features].copy(), khouse_all['price'])\n",
    "simple_feature_matrix, norms = normalize_features(simple_feature_matrix)\n",
    "initial_weights= np.array([1.,4.,1.])\n",
    "\n",
    "for penalty in [1.4e8, 1.64e6, 1.73e8,1.9e8,2.3e8]:\n",
    "    nw1 = lasso_coordinate_descent_step(0,simple_feature_matrix,simple_output,initial_weights, penalty)\n",
    "    nw2 = lasso_coordinate_descent_step(1,simple_feature_matrix,simple_output,initial_weights, penalty)\n",
    "    nw3 = lasso_coordinate_descent_step(2,simple_feature_matrix,simple_output,initial_weights, penalty)\n",
    "    print('{:e}'.format(penalty), nw1, nw2, nw3)"
   ]
  },
  {
   "cell_type": "code",
   "execution_count": 141,
   "metadata": {},
   "outputs": [
    {
     "name": "stdout",
     "output_type": "stream",
     "text": [
      "1.630492e+15\n",
      "[63157255.63750926        0.         21624989.5289373 ]\n"
     ]
    }
   ],
   "source": [
    "initial_weights= np.array([0.,0.,0.])\n",
    "l1_penalty, tolerance = 1e7, 1.0\n",
    "fitted_weights = lasso_cyclical_coordinate_descent(simple_feature_matrix, simple_output, initial_weights,l1_penalty, tolerance)\n",
    "print('{:e}'.format(RSS(simple_output, predict_output(simple_feature_matrix, fitted_weights))))\n",
    "print(fitted_weights)"
   ]
  },
  {
   "cell_type": "code",
   "execution_count": 255,
   "metadata": {},
   "outputs": [],
   "source": [
    "features = ['bedrooms','bathrooms', 'sqft_living', 'sqft_lot','floors','waterfront',\n",
    "                              'view', 'condition', 'grade', 'sqft_above', 'sqft_basement', 'yr_built', 'yr_renovated']\n",
    "more_features = khouse_train[features].copy()\n",
    "more_features['floors'] = more_features['floors'].astype('float64')\n",
    "(more_feature_matrix, simple_output) = set_data(more_features, khouse_train['price'])\n",
    "more_feature_matrix, norms = normalize_features(more_feature_matrix)\n",
    "\n",
    "initial_weights= np.zeros(14)\n",
    "l1_penalty, tolerance = 1e7, 1.0\n",
    "weights1e7 = lasso_cyclical_coordinate_descent(more_feature_matrix, simple_output, initial_weights,l1_penalty, tolerance)"
   ]
  },
  {
   "cell_type": "code",
   "execution_count": 248,
   "metadata": {
    "scrolled": true
   },
   "outputs": [
    {
     "data": {
      "text/plain": [
       "['sqft_living', 'waterfront', 'view']"
      ]
     },
     "execution_count": 248,
     "metadata": {},
     "output_type": "execute_result"
    }
   ],
   "source": [
    "[features[i] for i in range(13) if weights1e7[i]]"
   ]
  },
  {
   "cell_type": "code",
   "execution_count": 250,
   "metadata": {},
   "outputs": [
    {
     "data": {
      "text/plain": [
       "[]"
      ]
     },
     "execution_count": 250,
     "metadata": {},
     "output_type": "execute_result"
    }
   ],
   "source": [
    "l1_penalty, tolerance = 1e8, 1.0\n",
    "weights1e8 = lasso_cyclical_coordinate_descent(more_feature_matrix, simple_output, initial_weights,l1_penalty, tolerance)\n",
    "[features[i] for i in range(13) if weights1e8[i]]"
   ]
  },
  {
   "cell_type": "code",
   "execution_count": 243,
   "metadata": {},
   "outputs": [
    {
     "data": {
      "text/plain": [
       "['bedrooms',\n",
       " 'bathrooms',\n",
       " 'sqft_living',\n",
       " 'sqft_lot',\n",
       " 'floors',\n",
       " 'waterfront',\n",
       " 'view',\n",
       " 'condition',\n",
       " 'grade',\n",
       " 'sqft_above',\n",
       " 'sqft_basement',\n",
       " 'yr_built',\n",
       " 'yr_renovated']"
      ]
     },
     "execution_count": 243,
     "metadata": {},
     "output_type": "execute_result"
    }
   ],
   "source": [
    "l1_penalty, tolerance = 1e4, 5e5\n",
    "weights1e4 = lasso_cyclical_coordinate_descent(more_feature_matrix, simple_output, initial_weights,l1_penalty, tolerance)\n",
    "[features[i] for i in range(13) if weights1e4[i]]"
   ]
  },
  {
   "cell_type": "code",
   "execution_count": 260,
   "metadata": {
    "scrolled": true
   },
   "outputs": [
    {
     "name": "stdout",
     "output_type": "stream",
     "text": [
      "275962058003747.12\n",
      "537166151497322.75\n",
      "228434052028129.0\n"
     ]
    }
   ],
   "source": [
    "# use normalized version of weights ot predict\n",
    "m_1e7 = weights1e7/norms\n",
    "m_1e8 = weights1e8/norms\n",
    "m_1e4 = weights1e4/norms\n",
    "\n",
    "t_features = khouse_test[features].copy()\n",
    "t_features['floors'] = t_features['floors'].astype('float64')\n",
    "(t_feature_matrix, t_output) = set_data(t_features, khouse_test['price'])\n",
    "\n",
    "print(RSS(t_output, predict_output(t_features, m_1e7)))\n",
    "print(RSS(t_output, predict_output(t_features, m_1e8)))\n",
    "print(RSS(t_output, predict_output(t_features, m_1e4)))"
   ]
  },
  {
   "cell_type": "code",
   "execution_count": 259,
   "metadata": {},
   "outputs": [
    {
     "data": {
      "text/plain": [
       "array([0.00000000e+00, 0.00000000e+00, 1.61317488e+02, 0.00000000e+00,\n",
       "       0.00000000e+00, 2.87664706e+05, 6.91936984e+04, 0.00000000e+00,\n",
       "       0.00000000e+00, 0.00000000e+00, 0.00000000e+00, 0.00000000e+00,\n",
       "       0.00000000e+00, 1.85285462e+05])"
      ]
     },
     "execution_count": 259,
     "metadata": {},
     "output_type": "execute_result"
    }
   ],
   "source": [
    "weights1e7/norms"
   ]
  },
  {
   "cell_type": "markdown",
   "metadata": {},
   "source": [
    "## Notes:\n",
    "凡事出现链式赋值的情况，pandas都是不能够确定到底返回的是一个引用还是一个拷贝。所以遇到这种情况就干脆报warning\n"
   ]
  },
  {
   "cell_type": "code",
   "execution_count": 121,
   "metadata": {
    "scrolled": true
   },
   "outputs": [
    {
     "name": "stdout",
     "output_type": "stream",
     "text": [
      "0    1\n",
      "1    4\n",
      "2    7\n",
      "Name: 0, dtype: int64\n",
      "[1 2 3]\n"
     ]
    }
   ],
   "source": [
    "### NOTICE: ###\n",
    "a1=pd.DataFrame([[1,2,3],[4,5,6],[7,8,9]])\n",
    "a2=np.array([[1,2,3],[4,5,6],[7,8,9]])\n",
    "print(a1[0])\n",
    "print(a2[0])"
   ]
  }
 ],
 "metadata": {
  "kernelspec": {
   "display_name": "Python 3",
   "language": "python",
   "name": "python3"
  },
  "language_info": {
   "codemirror_mode": {
    "name": "ipython",
    "version": 3
   },
   "file_extension": ".py",
   "mimetype": "text/x-python",
   "name": "python",
   "nbconvert_exporter": "python",
   "pygments_lexer": "ipython3",
   "version": "3.6.5"
  }
 },
 "nbformat": 4,
 "nbformat_minor": 2
}
