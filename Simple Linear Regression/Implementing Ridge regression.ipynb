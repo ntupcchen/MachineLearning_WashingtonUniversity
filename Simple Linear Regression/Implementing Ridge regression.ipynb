{
 "cells": [
  {
   "cell_type": "code",
   "execution_count": 1,
   "metadata": {},
   "outputs": [],
   "source": [
    "import pandas as pd\n",
    "import seaborn as sns\n",
    "import numpy as np\n",
    "import matplotlib as plt\n",
    "%matplotlib inline\n",
    "khouse_train = pd.read_csv('kc_house_train_data.csv',dtype = {'bathrooms':float, 'waterfront':int, 'sqft_above':int, 'sqft_living15':float, 'grade':int, 'yr_renovated':int, 'price':float, 'bedrooms':float, 'zipcode':str, 'long':float, 'sqft_lot15':float, 'sqft_living':float, 'floors':str, 'condition':int, 'lat':float, 'date':str, 'sqft_basement':int, 'yr_built':int, 'id':str, 'sqft_lot':int, 'view':int})\n",
    "khouse_test = pd.read_csv('kc_house_test_data.csv',dtype = {'bathrooms':float, 'waterfront':int, 'sqft_above':int, 'sqft_living15':float, 'grade':int, 'yr_renovated':int, 'price':float, 'bedrooms':float, 'zipcode':str, 'long':float, 'sqft_lot15':float, 'sqft_living':float, 'floors':str, 'condition':int, 'lat':float, 'date':str, 'sqft_basement':int, 'yr_built':int, 'id':str, 'sqft_lot':int, 'view':int})"
   ]
  },
  {
   "cell_type": "code",
   "execution_count": 29,
   "metadata": {},
   "outputs": [],
   "source": [
    "def RSS(y,y_est):\n",
    "    return ((y-y_est)**2).sum()\n",
    "\n",
    "\n",
    "def feature_derivative_ridge(errors, feature, weight, l2_penalty, feature_is_constant):\n",
    "    if feature_is_constant:\n",
    "        derivative = -2*(errors*feature).sum()\n",
    "    else:\n",
    "        derivative = -2*(errors*feature).sum()+2*l2_penalty*weight\n",
    "    return derivative"
   ]
  },
  {
   "cell_type": "code",
   "execution_count": 243,
   "metadata": {},
   "outputs": [],
   "source": [
    "def set_data(features, output):\n",
    "    df = pd.DataFrame(features).transpose()\n",
    "    df['constant'] = 1\n",
    "    df.set_axis([i for i in range(len(features)+1)],axis='columns',inplace=True)\n",
    "    return (df, output)\n",
    "\n",
    "\n",
    "def predict_output(feature_matrix, weights):\n",
    "    return (feature_matrix*weights).sum(axis=1)\n",
    "\n",
    "\n",
    "def feature_derivative(errors, feature):\n",
    "    _ = -2*feature.transpose()*errors\n",
    "    return _.sum(axis=1).reset_index()[0]\n",
    "\n",
    "\n",
    "def regression_gradient_descent(feature_matrix, output, initial_weights, step_size, tolerance):\n",
    "    converged = False\n",
    "    weights = initial_weights\n",
    "    i=1\n",
    "    while not converged:\n",
    "        print(\"\\n\",i)\n",
    "        i+=1\n",
    "        print(weights[0],weights[1])\n",
    "        \n",
    "        prediction = predict_outcome(feature_matrix, weights)\n",
    "        errors = output-prediction\n",
    "        gradient_of_RSS = feature_derivative(errors, feature_matrix)\n",
    "        print(gradient_of_RSS)\n",
    "        \n",
    "        weights = weights - step_size*gradient_of_RSS\n",
    "        g_value = np.sqrt(np.square(gradient_of_RSS).sum())\n",
    "        if g_value < tolerance:\n",
    "            converged = True\n",
    "    return weights\n",
    "def feature_derivative_ridge(errors, feature, weights, l2_penalty):\n",
    "    f = feature.loc[:,0:feature.shape[1]-2]\n",
    "    constant = feature.loc[:,feature.shape[1]-1]\n",
    "    derivative = (-2*pd.DataFrame.mul(f,errors,axis=0)).sum(axis=0)+2*l2_penalty*weights[0:-1]\n",
    "    derivative[feature.shape[1]-1] = -2*(errors*constant).sum()\n",
    "#     print(derivative)\n",
    "    return derivative\n",
    "    \n",
    "def ridge_regression_gradient_descent(feature_matrix, output, initial_weights, step_size, l2_penalty, max_iterations=100):\n",
    "    weights = np.array(initial_weights)\n",
    "    for i in range(max_iterations):\n",
    "        prediction = predict_output(feature_matrix, weights)\n",
    "        errors = output-prediction\n",
    "        gradient = feature_derivative_ridge(errors, feature_matrix, weights, l2_penalty)\n",
    "        weights = weights -step_size*gradient\n",
    "#         print(weights)\n",
    "    return weights"
   ]
  },
  {
   "cell_type": "code",
   "execution_count": 238,
   "metadata": {},
   "outputs": [],
   "source": [
    "simple_features = [khouse_train['sqft_living']]\n",
    "(simple_feature_matrix, simple_output) = set_data(simple_features, khouse_train['price'])\n",
    "\n",
    "l2_penalty, step_size, max_iteration=0, 1e-12, 1000\n",
    "initial_weights = pd.Series([0.,0.])\n",
    "simple_weights_0_penalty = ridge_regression_gradient_descent(simple_feature_matrix, simple_output, initial_weights, step_size, l2_penalty, max_iterations=100)"
   ]
  },
  {
   "cell_type": "code",
   "execution_count": 244,
   "metadata": {},
   "outputs": [],
   "source": [
    "l2_penalty = 1e11\n",
    "simple_weights_high_penalty = ridge_regression_gradient_descent(simple_feature_matrix, simple_output, initial_weights, step_size, l2_penalty, max_iterations=100)"
   ]
  },
  {
   "cell_type": "code",
   "execution_count": 258,
   "metadata": {},
   "outputs": [
    {
     "name": "stdout",
     "output_type": "stream",
     "text": [
      "0    263.024271\n",
      "1      0.078820\n",
      "dtype: float64\n",
      "0    124.573845\n",
      "1      0.998079\n",
      "dtype: float64\n"
     ]
    }
   ],
   "source": [
    "print(simple_weights_0_penalty)\n",
    "print(simple_weights_high_penalty)"
   ]
  },
  {
   "cell_type": "code",
   "execution_count": 246,
   "metadata": {},
   "outputs": [
    {
     "data": {
      "text/plain": [
       "[<matplotlib.lines.Line2D at 0x24056d8f630>,\n",
       " <matplotlib.lines.Line2D at 0x24056d8f710>,\n",
       " <matplotlib.lines.Line2D at 0x24056d8feb8>,\n",
       " <matplotlib.lines.Line2D at 0x24056d8ff98>,\n",
       " <matplotlib.lines.Line2D at 0x24056d566d8>,\n",
       " <matplotlib.lines.Line2D at 0x24056d567b8>]"
      ]
     },
     "execution_count": 246,
     "metadata": {},
     "output_type": "execute_result"
    },
    {
     "data": {
      "image/png": "[encoded data removed]",
      "text/plain": [
       "<Figure size 432x288 with 1 Axes>"
      ]
     },
     "metadata": {},
     "output_type": "display_data"
    }
   ],
   "source": [
    "import matplotlib.pyplot as plt\n",
    "%matplotlib inline\n",
    "plt.plot(simple_feature_matrix,simple_output,'k.',\n",
    "        simple_feature_matrix,predict_output(simple_feature_matrix, simple_weights_0_penalty),'b-',\n",
    "        simple_feature_matrix,predict_output(simple_feature_matrix, simple_weights_high_penalty),'r-')"
   ]
  },
  {
   "cell_type": "code",
   "execution_count": 264,
   "metadata": {},
   "outputs": [
    {
     "name": "stdout",
     "output_type": "stream",
     "text": [
      "1784273286136298.0\n",
      "2.757236e+14\n",
      "6.946531e+14\n"
     ]
    }
   ],
   "source": [
    "simple_features = [khouse_test['sqft_living']]\n",
    "(simple_test_matrix, test_output) = set_data(simple_features, khouse_test['price'])\n",
    "\n",
    "print(RSS(test_output, predict_output(simple_test_matrix, initial_weights)))\n",
    "print('{:e}'.format(RSS(test_output, predict_output(simple_test_matrix, simple_weights_0_penalty))))\n",
    "print('{:e}'.format(RSS(test_output, predict_output(simple_test_matrix, simple_weights_high_penalty))))"
   ]
  },
  {
   "cell_type": "code",
   "execution_count": 266,
   "metadata": {},
   "outputs": [
    {
     "name": "stdout",
     "output_type": "stream",
     "text": [
      "0    187.808775\n",
      "1     82.404682\n",
      "2      0.001803\n",
      "dtype: float64\n",
      "0    91.490081\n",
      "1    78.437403\n",
      "2     0.694809\n",
      "dtype: float64\n"
     ]
    }
   ],
   "source": [
    "simple_features = [khouse_train['sqft_living'], khouse_train['sqft_living15']]\n",
    "(simple_feature_matrix, simple_output) = set_data(simple_features, khouse_train['price'])\n",
    "\n",
    "l2_penalty, step_size, max_iteration=0.0, 1e-12, 1000\n",
    "initial_weights = pd.Series([0., 0., 0.])\n",
    "multiple_weights_0_penalty = ridge_regression_gradient_descent(simple_feature_matrix, simple_output, initial_weights, step_size, l2_penalty, max_iterations=100)\n",
    "\n",
    "l2_penalty = 1e11\n",
    "multiple_weights_high_penalty = ridge_regression_gradient_descent(simple_feature_matrix, simple_output, initial_weights, step_size, l2_penalty, max_iterations=100)\n",
    "\n",
    "print(multiple_weights_0_penalty)\n",
    "print(multiple_weights_high_penalty)"
   ]
  },
  {
   "cell_type": "code",
   "execution_count": 265,
   "metadata": {},
   "outputs": [
    {
     "name": "stdout",
     "output_type": "stream",
     "text": [
      "1784273286136298.0\n",
      "276002294253496.25\n",
      "5.004081e+14\n"
     ]
    }
   ],
   "source": [
    "simple_features = [khouse_test['sqft_living'], khouse_test['sqft_living15']]\n",
    "(simple_test_matrix, test_output) = set_data(simple_features, khouse_test['price'])\n",
    "\n",
    "print(RSS(test_output, predict_output(simple_test_matrix, initial_weights)))\n",
    "print(RSS(test_output, predict_output(simple_test_matrix, multiple_weights_0_penalty)))\n",
    "print('{:e}'.format(RSS(test_output, predict_output(simple_test_matrix, multiple_weights_high_penalty))))"
   ]
  },
  {
   "cell_type": "code",
   "execution_count": 262,
   "metadata": {},
   "outputs": [
    {
     "name": "stdout",
     "output_type": "stream",
     "text": [
      "-105246.88440829347\n",
      "39549.91208731104\n"
     ]
    }
   ],
   "source": [
    "print(test_output[0]- predict_output(simple_test_matrix, multiple_weights_0_penalty)[0])\n",
    "print(test_output[0]- predict_output(simple_test_matrix, multiple_weights_high_penalty)[0])"
   ]
  },
  {
   "cell_type": "markdown",
   "metadata": {},
   "source": [
    "## Notes:\n",
    "Default:\n",
    "\n",
    "pd.DataFrame * pd.DataFrame => 同column name相乘\n",
    "\n",
    "pd.DataFrame * pd.Series => 以df的column name對 series的index\n",
    "\n",
    "**但我們總是能用 pd.DataFrame.mul(a,b,axis={0,1}) 來指定**"
   ]
  }
 ],
 "metadata": {
  "kernelspec": {
   "display_name": "Python 3",
   "language": "python",
   "name": "python3"
  },
  "language_info": {
   "codemirror_mode": {
    "name": "ipython",
    "version": 3
   },
   "file_extension": ".py",
   "mimetype": "text/x-python",
   "name": "python",
   "nbconvert_exporter": "python",
   "pygments_lexer": "ipython3",
   "version": "3.6.5"
  }
 },
 "nbformat": 4,
 "nbformat_minor": 2
}
