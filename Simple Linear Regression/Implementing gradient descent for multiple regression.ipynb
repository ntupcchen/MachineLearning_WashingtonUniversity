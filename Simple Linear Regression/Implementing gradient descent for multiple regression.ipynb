{
 "cells": [
  {
   "cell_type": "code",
   "execution_count": 1,
   "metadata": {},
   "outputs": [],
   "source": [
    "import pandas as pd\n",
    "import seaborn as sns\n",
    "import numpy as np\n",
    "import matplotlib as plt\n",
    "%matplotlib inline\n",
    "khouse_train = pd.read_csv('kc_house_train_data.csv',dtype = {'bathrooms':float, 'waterfront':int, 'sqft_above':int, 'sqft_living15':float, 'grade':int, 'yr_renovated':int, 'price':float, 'bedrooms':float, 'zipcode':str, 'long':float, 'sqft_lot15':float, 'sqft_living':float, 'floors':str, 'condition':int, 'lat':float, 'date':str, 'sqft_basement':int, 'yr_built':int, 'id':str, 'sqft_lot':int, 'view':int})\n",
    "khouse_test = pd.read_csv('kc_house_test_data.csv',dtype = {'bathrooms':float, 'waterfront':int, 'sqft_above':int, 'sqft_living15':float, 'grade':int, 'yr_renovated':int, 'price':float, 'bedrooms':float, 'zipcode':str, 'long':float, 'sqft_lot15':float, 'sqft_living':float, 'floors':str, 'condition':int, 'lat':float, 'date':str, 'sqft_basement':int, 'yr_built':int, 'id':str, 'sqft_lot':int, 'view':int})"
   ]
  },
  {
   "cell_type": "code",
   "execution_count": 2,
   "metadata": {},
   "outputs": [],
   "source": [
    "def simple_linear_regression(input_feature, output):\n",
    "    x_x = input_feature*input_feature\n",
    "    x_y = input_feature*output\n",
    "    x=input_feature\n",
    "    y=output\n",
    "    slope = (x_y.sum()-y.sum()*x.sum()/x.size)/(x_x.sum()-x.sum()**2/x.size)\n",
    "    intercept = y.mean()-slope*x.mean()\n",
    "    return(intercept, slope)\n",
    "\n",
    "\n",
    "def get_regression_predictions(input_feature, intercept,slope):\n",
    "    predicted_output = input_feature*slope+intercept\n",
    "    return(predicted_output)\n",
    "\n",
    "\n",
    "def get_residual_sum_of_squares(input_feature, output, intercept,slope):\n",
    "    RSS = ((output-input_feature*slope-intercept)**2).sum()\n",
    "    return(RSS)\n",
    "\n",
    "\n",
    "def RSS(y,y_est):\n",
    "    return ((y-y_est)**2).sum()"
   ]
  },
  {
   "cell_type": "code",
   "execution_count": 3,
   "metadata": {},
   "outputs": [],
   "source": [
    "def set_data(features, output):\n",
    "    df = pd.DataFrame(features).transpose()\n",
    "    df['constant'] = 1\n",
    "    df.set_axis([i for i in range(len(features)+1)],axis='columns',inplace=True)\n",
    "    return (df, output)\n",
    "\n",
    "\n",
    "def predict_outcome(feature_matrix, weights):\n",
    "    return (feature_matrix*weights).sum(axis=1)\n",
    "\n",
    "\n",
    "def feature_derivative(errors, feature):\n",
    "    _ = -2*feature.transpose()*errors\n",
    "    return _.sum(axis=1).reset_index()[0]\n",
    "\n",
    "\n",
    "def regression_gradient_descent(feature_matrix, output, initial_weights, step_size, tolerance):\n",
    "    converged = False\n",
    "    weights = initial_weights\n",
    "    i=1\n",
    "    while not converged:\n",
    "        print(\"\\n\",i)\n",
    "        i+=1\n",
    "        print(weights[0],weights[1])\n",
    "        \n",
    "        prediction = predict_outcome(feature_matrix, weights)\n",
    "        errors = output-prediction\n",
    "        gradient_of_RSS = feature_derivative(errors, feature_matrix)\n",
    "        print(gradient_of_RSS)\n",
    "        \n",
    "        weights = weights - step_size*gradient_of_RSS\n",
    "        g_value = np.sqrt(np.square(gradient_of_RSS).sum())\n",
    "        if g_value < tolerance:\n",
    "            converged = True\n",
    "    return weights\n",
    "\n",
    "\n",
    "def regression_gradient_descent2(feature_matrix, output, initial_weights, step_size, tolerance):\n",
    "    converged = False\n",
    "    weights = initial_weights\n",
    "    i=1\n",
    "    while not converged:\n",
    "        print(weights)\n",
    "        prediction = predict_outcome(feature_matrix, weights)\n",
    "        errors = output-prediction\n",
    "        gradient_sum_squares = 0\n",
    "        \n",
    "        for i in range(len(weights)):\n",
    "            derivative = -2*(feature_matrix.iloc[:,i]*errors).sum()\n",
    "            gradient_sum_squares += np.square(derivative)\n",
    "            weights[i] = weights[i]-step_size*derivative\n",
    "        gradient_magnitude = np.sqrt(gradient_sum_squares)\n",
    "        if gradient_magnitude < tolerance:\n",
    "            converged = True\n",
    "        print(gradient_magnitude)\n",
    "    return(weights)"
   ]
  },
  {
   "cell_type": "markdown",
   "metadata": {},
   "source": [
    "## 兩個bug experience:\n",
    "    1. pd.df乘法會拿兩矩陣的相同column name乘，有名字乘沒名字會爆炸\n",
    "    2. dtype會影響結果，pd與np的dtype不盡相同"
   ]
  },
  {
   "cell_type": "code",
   "execution_count": 8,
   "metadata": {
    "scrolled": true
   },
   "outputs": [
    {
     "name": "stdout",
     "output_type": "stream",
     "text": [
      "[ 1.0e+00 -4.7e+04]\n",
      "50551530784973.43\n",
      "[   203.20610681 -46999.91874209]\n",
      "14163541178533.521\n",
      "[   259.86026695 -46999.89597714]\n",
      "3968344689091.9404\n",
      "[   275.73364443 -46999.88960076]\n",
      "1111851857734.1477\n",
      "[   280.1810515  -46999.88781613]\n",
      "311518945656.9479\n",
      "[   281.42712718 -46999.88731802]\n",
      "87281460052.92308\n",
      "[   281.776253   -46999.88718037]\n",
      "24454542420.467026\n",
      "[   281.87407116 -46999.88714371]\n",
      "6851680150.731333\n",
      "[   281.90147788 -46999.88713535]\n",
      "1919705650.4940245\n",
      "[   281.9091567  -46999.88713492]\n",
      "537864010.0430896\n"
     ]
    }
   ],
   "source": [
    "simple_features = [khouse_train['sqft_living']]\n",
    "(simple_feature_matrix, output) = set_data(simple_features, khouse_train['price'])\n",
    "\n",
    "initial_weights = np.array([1.,-47000.])\n",
    "step_size = 4e-12\n",
    "tolerance = 1e9\n",
    "simple_weights = regression_gradient_descent2(simple_feature_matrix, output,initial_weights, step_size, tolerance)"
   ]
  },
  {
   "cell_type": "code",
   "execution_count": 9,
   "metadata": {},
   "outputs": [
    {
     "data": {
      "text/plain": [
       "356133.2835291987"
      ]
     },
     "execution_count": 9,
     "metadata": {},
     "output_type": "execute_result"
    }
   ],
   "source": [
    "# model one: 'sqrt_living' -> 'price'\n",
    "(test_feature_matrix, test_output) = set_data([khouse_test['sqft_living']],khouse_test['price'])\n",
    "(test_feature_matrix.loc[0]*simple_weights).sum()"
   ]
  },
  {
   "cell_type": "code",
   "execution_count": 10,
   "metadata": {},
   "outputs": [
    {
     "data": {
      "text/plain": [
       "275400060699218.56"
      ]
     },
     "execution_count": 10,
     "metadata": {},
     "output_type": "execute_result"
    }
   ],
   "source": [
    "RSS(test_output, predict_outcome(test_feature_matrix, simple_weights))"
   ]
  },
  {
   "cell_type": "code",
   "execution_count": 11,
   "metadata": {
    "scrolled": false
   },
   "outputs": [
    {
     "data": {
      "text/plain": [
       "array([   281.91130816, -46999.8871367 ])"
      ]
     },
     "execution_count": 11,
     "metadata": {},
     "output_type": "execute_result"
    }
   ],
   "source": [
    "simple_weights"
   ]
  },
  {
   "cell_type": "code",
   "execution_count": 11,
   "metadata": {},
   "outputs": [
    {
     "data": {
      "text/plain": [
       "0    347796.175797\n",
       "1     39587.277847\n",
       "2         2.075222\n",
       "Name: 0, dtype: float64"
      ]
     },
     "execution_count": 11,
     "metadata": {},
     "output_type": "execute_result"
    }
   ],
   "source": [
    "test_feature_matrix.loc[0]*simple_weights"
   ]
  },
  {
   "cell_type": "code",
   "execution_count": 5,
   "metadata": {},
   "outputs": [
    {
     "data": {
      "text/plain": [
       "366651.4116294939"
      ]
     },
     "execution_count": 5,
     "metadata": {},
     "output_type": "execute_result"
    }
   ],
   "source": [
    "# model two: 'sqrt_living', 'sqrt_living15' -> 'price' \n",
    "(test_feature_matrix, test_output) = set_data([khouse_test['sqft_living'],khouse_test['sqft_living15']],khouse_test['price'])\n",
    "(test_feature_matrix.loc[0]*simple_weights).sum()"
   ]
  },
  {
   "cell_type": "code",
   "execution_count": 6,
   "metadata": {
    "scrolled": true
   },
   "outputs": [
    {
     "data": {
      "text/plain": [
       "0    350453.822954\n",
       "1    116197.557524\n",
       "2    -99999.968849\n",
       "Name: 0, dtype: float64"
      ]
     },
     "execution_count": 6,
     "metadata": {},
     "output_type": "execute_result"
    }
   ],
   "source": [
    "test_feature_matrix.loc[0]*simple_weights"
   ]
  },
  {
   "cell_type": "code",
   "execution_count": 127,
   "metadata": {
    "scrolled": true
   },
   "outputs": [
    {
     "data": {
      "text/plain": [
       "310000.0"
      ]
     },
     "execution_count": 127,
     "metadata": {},
     "output_type": "execute_result"
    }
   ],
   "source": [
    "test_output.loc[0]"
   ]
  },
  {
   "cell_type": "code",
   "execution_count": 7,
   "metadata": {},
   "outputs": [
    {
     "data": {
      "text/plain": [
       "270263443629803.56"
      ]
     },
     "execution_count": 7,
     "metadata": {},
     "output_type": "execute_result"
    }
   ],
   "source": [
    "RSS(test_output, predict_outcome(test_feature_matrix, simple_weights))"
   ]
  },
  {
   "cell_type": "code",
   "execution_count": null,
   "metadata": {},
   "outputs": [],
   "source": [
    "RSS of model1: 275400060699218.56\n",
    "RSS of model2: 270263443629803.56"
   ]
  }
 ],
 "metadata": {
  "kernelspec": {
   "display_name": "Python 3",
   "language": "python",
   "name": "python3"
  },
  "language_info": {
   "codemirror_mode": {
    "name": "ipython",
    "version": 3
   },
   "file_extension": ".py",
   "mimetype": "text/x-python",
   "name": "python",
   "nbconvert_exporter": "python",
   "pygments_lexer": "ipython3",
   "version": "3.6.5"
  }
 },
 "nbformat": 4,
 "nbformat_minor": 2
}
